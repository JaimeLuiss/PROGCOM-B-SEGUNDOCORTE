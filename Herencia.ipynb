{
  "nbformat": 4,
  "nbformat_minor": 0,
  "metadata": {
    "colab": {
      "provenance": [],
      "collapsed_sections": []
    },
    "kernelspec": {
      "name": "python3",
      "display_name": "Python 3"
    },
    "language_info": {
      "name": "python"
    }
  },
  "cells": [
    {
      "cell_type": "code",
      "execution_count": 10,
      "metadata": {
        "id": "cJ98EdEOhR1s"
      },
      "outputs": [],
      "source": [
        "class humano:\n",
        "  def __init__(self, ojos, cabello, boca, orejas,nariz,dientes,lengua,pestanas,cejas,brazos,piernas,pulmones,organos,pies,huesos):\n",
        "      self.ojos=ojos\n",
        "      self.cabello=cabello\n",
        "      self.boca=boca\n",
        "      self.orejas=orejas\n",
        "      self.nariz=nariz\n",
        "      self.dientes=dientes\n",
        "      self.lengua=lengua\n",
        "      self.pestanas=pestanas\n",
        "      self.cejas=cejas\n",
        "      self.brazos=brazos\n",
        "      self.piernas=piernas\n",
        "      self.pulmones=pulmones\n",
        "      self.organos=organos\n",
        "      self.pies=pies\n",
        "      self.huesos=huesos\n",
        "\n",
        "#Método de tipo estático\n",
        "\n",
        "  def movilizarse(self,vel):\n",
        "    if vel<0:\n",
        "      print({self.nombre}, \"Esta retrocediento\")\n",
        "      print({self.nombre}, \"Va para adelante\")\n",
        "\n",
        "    if vel==0:\n",
        "      return f\"{self.nombre} está en modo reposo\"\n",
        "    elif vel>0 and vel<=1:\n",
        "      return f\"{self.nombre} está gateando\"\n",
        "    elif vel>1 and vel<=5:\n",
        "      return f\"{self.nombre} está caminando\"\n",
        "    elif vel>5 and vel<=5.9:\n",
        "      return f\"{self.nombre} está trotando\"\n",
        "    elif vel>5.9 and vel<=10:\n",
        "      return f\"{self.nombre} está corriendo\"\n",
        "    elif vel>10 and vel<=700:\n",
        "      return f\"{self.nombre} está volando\"\n",
        "    else:\n",
        "      return f\"{self.nombre} posiblemente no es humano\"\n",
        "\n",
        "\n",
        "\n",
        "  def trabajar(self,trabajo):\n",
        "   jobs=[\"desempleado\", \"obrero\", \"policia\", \"operario\", \"trabajador\", \"docente\", \"político\"]\n",
        "   if jobs [trabajo] in trabajo:\n",
        "    if trabajo==0:\n",
        "     print({self.nombre},\"está \", jobs [trabajo])\n",
        "    else:\n",
        "     print(self.nombre, \"es \", jobs[trabajo])\n",
        "\n"
      ]
    },
    {
      "cell_type": "code",
      "source": [
        "class sayayin:\n",
        "  def __init__(self, ojos, cabello, boca, orejas,nariz,dientes,lengua,pestanas,cejas,brazos,piernas,pulmones,organos,pies,huesos,cola_de_mono):\n",
        "      self.ojos=\"negros\"\n",
        "      self.cabello=cabello\n",
        "      self.boca=boca\n",
        "      self.orejas=orejas\n",
        "      self.nariz=nariz\n",
        "      self.dientes=dientes\n",
        "      self.lengua=lengua\n",
        "      self.pestanas=pestanas\n",
        "      self.cejas=cejas\n",
        "      self.brazos=brazos\n",
        "      self.piernas=piernas\n",
        "      self.pulmones=pulmones\n",
        "      self.organos=organos\n",
        "      self.pies=pies\n",
        "      self.huesos=huesos\n",
        "      self.cola_de_mono=True\n",
        "\n",
        "#Método de tipo estático\n",
        "\n",
        "  def movilizarse(self,vel):\n",
        "    if vel<0:\n",
        "      print({self.nombre}, \"Esta retrocediento\")\n",
        "      print({self.nombre}, \"Va para adelante\")\n",
        "\n",
        "    if vel==0:\n",
        "      return f\"{self.nombre} está en modo reposo\"\n",
        "    elif vel>0 and vel<=1:\n",
        "      return f\"{self.nombre} está gateando\"\n",
        "    elif vel>1 and vel<=5:\n",
        "      return f\"{self.nombre} está caminando\"\n",
        "    elif vel>5 and vel<=5.9:\n",
        "      return f\"{self.nombre} está trotando\"\n",
        "    elif vel>5.9 and vel<=10:\n",
        "      return f\"{self.nombre} está corriendo\"\n",
        "    elif vel>10 and vel<=170000:\n",
        "      return f\"{self.nombre} está volando\"\n",
        "    else:\n",
        "      return f\"{self.nombre} posiblemente no es humano\"\n",
        "\n",
        "\n",
        "\n",
        "  def trabajar(self,trabajo):\n",
        "   jobs=[\"guerrero\", \"mercenario\", \"granjero\", \"rey\", \"principe\"]\n",
        "   if jobs [trabajo] in trabajo:\n",
        "    if trabajo==0:\n",
        "     print({self.nombre},\"está \", jobs [trabajo])\n",
        "    else:\n",
        "     print(self.nombre, \"es \", jobs[trabajo])\n",
        "   else:\n",
        "    print(self.nombre, \"posiblemente no es sayayin\")\n",
        "\n",
        "  def luna (self,luna):\n",
        "    if luna and self.cola_de_mono:\n",
        "      print(self.nombre, \"se va a transformar en MONO GIGANTE!!!\")\n",
        "    elif luna and self.cola_de_mono==False:\n",
        "      print(self.nombre, \"no se va a transformar en MONO GIGANTE!!!\")\n",
        "    else:\n",
        "      print (self.nombre, \" no se va a trasformar en MONO GIFANTE!!!\")"
      ],
      "metadata": {
        "id": "XxrlRq2CsQm2"
      },
      "execution_count": 11,
      "outputs": []
    },
    {
      "cell_type": "code",
      "source": [
        "class Hibridos(sayayin,humano): #Herencia múltiple\n",
        "  def poderes():\n",
        "    print(self.nombre \"puede trasformarse en modo bestia\")"
      ],
      "metadata": {
        "id": "XDJWTSbqvG-m"
      },
      "execution_count": null,
      "outputs": []
    },
    {
      "cell_type": "code",
      "source": [
        "gohan= Hibridos(\"gohan\",2, 1,2,2,\"blanco\",1.8,70,\"M\")"
      ],
      "metadata": {
        "id": "y0OLvG6dvT9-"
      },
      "execution_count": null,
      "outputs": []
    },
    {
      "cell_type": "code",
      "source": [
        "gohan.luna(True)"
      ],
      "metadata": {
        "colab": {
          "base_uri": "https://localhost:8080/",
          "height": 166
        },
        "id": "OLL2Pk6ev05G",
        "outputId": "492ba323-d3e3-4e99-c99e-32360a681bd4"
      },
      "execution_count": 16,
      "outputs": [
        {
          "output_type": "error",
          "ename": "NameError",
          "evalue": "ignored",
          "traceback": [
            "\u001b[0;31m---------------------------------------------------------------------------\u001b[0m",
            "\u001b[0;31mNameError\u001b[0m                                 Traceback (most recent call last)",
            "\u001b[0;32m<ipython-input-16-94dcb05869b8>\u001b[0m in \u001b[0;36m<module>\u001b[0;34m\u001b[0m\n\u001b[0;32m----> 1\u001b[0;31m \u001b[0mgohan\u001b[0m\u001b[0;34m.\u001b[0m\u001b[0mluna\u001b[0m\u001b[0;34m(\u001b[0m\u001b[0;32mTrue\u001b[0m\u001b[0;34m)\u001b[0m\u001b[0;34m\u001b[0m\u001b[0;34m\u001b[0m\u001b[0m\n\u001b[0m",
            "\u001b[0;31mNameError\u001b[0m: name 'gohan' is not defined"
          ]
        }
      ]
    }
  ]
}