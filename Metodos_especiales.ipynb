{
  "nbformat": 4,
  "nbformat_minor": 0,
  "metadata": {
    "colab": {
      "provenance": []
    },
    "kernelspec": {
      "name": "python3",
      "display_name": "Python 3"
    },
    "language_info": {
      "name": "python"
    }
  },
  "cells": [
    {
      "cell_type": "markdown",
      "source": [
        "##clase metodos especiales"
      ],
      "metadata": {
        "id": "qbmp0-MDdXYv"
      }
    },
    {
      "cell_type": "markdown",
      "source": [
        "#Metodo __init__\n",
        "\n",
        "El objetivo fundamental del método __init__ es inicializar los atributos del objeto que creamos.\n"
      ],
      "metadata": {
        "id": "Y_16X4LLeRV6"
      }
    },
    {
      "cell_type": "code",
      "source": [
        "class punto:\n",
        "\n",
        "  def __init__(self, x, y):\n",
        "    self.x=x\n",
        "    self.y=y"
      ],
      "metadata": {
        "id": "XXE5OMMpew3e"
      },
      "execution_count": 23,
      "outputs": []
    },
    {
      "cell_type": "code",
      "execution_count": null,
      "metadata": {
        "id": "Xlxj3u1wM1Wl"
      },
      "outputs": [],
      "source": [
        "class punto:\n",
        "\n",
        "  def __init__(self, x, y):\n",
        "    self.x=x\n",
        "    self.y=y\n",
        "\n",
        "  def __str__(self):\n",
        "      return \"(\"+str(self.x)+\",\"+str(self.y)+\")\"\n"
      ]
    },
    {
      "cell_type": "code",
      "source": [
        "punto1=punto(10,3)\n",
        "punto2=punto(3,4)\n",
        "print(punto1)\n",
        "print(punto2)\n"
      ],
      "metadata": {
        "colab": {
          "base_uri": "https://localhost:8080/"
        },
        "id": "K9CfE_5tPKGc",
        "outputId": "f89bbe7f-932d-4671-84eb-c2ffe61869c9"
      },
      "execution_count": null,
      "outputs": [
        {
          "output_type": "stream",
          "name": "stdout",
          "text": [
            "(10,3)\n",
            "(3,4)\n"
          ]
        }
      ]
    },
    {
      "cell_type": "code",
      "source": [
        "class ejemplo:\n",
        "\n",
        "  def __init__(self):\n",
        "    print(\"Instancia de ejemplo\")\n",
        "\n",
        "  def __del__(self):\n",
        "    print(\"Destrucor llamado, ejemplo\")\n",
        "\n",
        "obj=ejemplo()\n",
        "del obj"
      ],
      "metadata": {
        "colab": {
          "base_uri": "https://localhost:8080/"
        },
        "id": "cYujK1a2P3JD",
        "outputId": "850e7a29-ec02-4ee0-a6e7-a4b9abf7c052"
      },
      "execution_count": null,
      "outputs": [
        {
          "output_type": "stream",
          "name": "stdout",
          "text": [
            "Instancia de ejemplo\n",
            "Destrucor llamado, ejemplo\n"
          ]
        }
      ]
    },
    {
      "cell_type": "code",
      "source": [
        "#Metodo __str__\n",
        "\n",
        "class persona:\n",
        "  def __init__(self,nom,ape):\n",
        "    self.nombre=nom\n",
        "    self.apellido=ape\n",
        "\n",
        "  def __repr__(self):\n",
        "    cadena=self.nombre+\",\"+self.apellido\n",
        "    return cadena\n",
        "\n",
        "persona1 = persona(\"Juan\",\"Rodriguez\")\n",
        "print(persona1)"
      ],
      "metadata": {
        "colab": {
          "base_uri": "https://localhost:8080/"
        },
        "id": "p5kTuCLcRGCu",
        "outputId": "e791fdd2-6a9d-49d9-881d-ac117271e3fe"
      },
      "execution_count": null,
      "outputs": [
        {
          "output_type": "stream",
          "name": "stdout",
          "text": [
            "Juan,Rodriguez\n"
          ]
        }
      ]
    },
    {
      "cell_type": "markdown",
      "source": [
        "Algunas de las características del método __init__ son:\n",
        "\n",
        "*El método __init__ es el primer método\n",
        "que se ejecuta cuando se crea un objeto.\n",
        " *El método __init__ no puede retornar datos. \n",
        "*El método __init__ es un método opcional, de todos modos es muy común declararlo"
      ],
      "metadata": {
        "id": "ysP9Ij6Ee4CS"
      }
    }
  ]
}