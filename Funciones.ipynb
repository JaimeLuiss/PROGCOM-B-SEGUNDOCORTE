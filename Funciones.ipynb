{
  "nbformat": 4,
  "nbformat_minor": 0,
  "metadata": {
    "colab": {
      "provenance": []
    },
    "kernelspec": {
      "name": "python3",
      "display_name": "Python 3"
    },
    "language_info": {
      "name": "python"
    }
  },
  "cells": [
    {
      "cell_type": "code",
      "execution_count": 8,
      "metadata": {
        "colab": {
          "base_uri": "https://localhost:8080/"
        },
        "id": "JVgf0g0vZ19c",
        "outputId": "e1ced6ab-03f0-49c1-f701-8789813e1288"
      },
      "outputs": [
        {
          "output_type": "stream",
          "name": "stdout",
          "text": [
            "Juana de arco, de Francia, tiene 19 años de edad.\n"
          ]
        }
      ],
      "source": [
        "def informacionpersonal ():\n",
        "  Name=\"Juana de arco\"\n",
        "  Age=19\n",
        "  Country=\"Francia\"\n",
        "  return (Name, Country,Age)\n",
        "(Name,Country,Age)=informacionpersonal()\n",
        "print(Name + ', de '+ Country + ', tiene ' +str(Age)+ ' años de edad.')"
      ]
    }
  ]
}