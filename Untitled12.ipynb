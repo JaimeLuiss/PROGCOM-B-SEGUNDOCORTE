{
  "nbformat": 4,
  "nbformat_minor": 0,
  "metadata": {
    "colab": {
      "provenance": []
    },
    "kernelspec": {
      "name": "python3",
      "display_name": "Python 3"
    },
    "language_info": {
      "name": "python"
    }
  },
  "cells": [
    {
      "cell_type": "code",
      "execution_count": 16,
      "metadata": {
        "id": "MuWggiQX3DLG"
      },
      "outputs": [],
      "source": [
        "\n",
        "class Fraccion: #clase Fracción\n",
        "  \n",
        "  #constructor\n",
        "\n",
        "\n",
        "  def __init__(self,num,den,pot):\n",
        "    self.num=num\n",
        "    self.den=den\n",
        "    self.pot=pot  \n",
        "  def potencia(self):\n",
        "   if self.den==0 or b.den==0:\n",
        "      print(\"No se puede dividir entre 0\") \n",
        "   else:\n",
        "    if self.pot==0:\n",
        "      num=1\n",
        "      den=1\n",
        "    elif self.pot<0:\n",
        "      self.num, self.den = self.den , self.num\n",
        "      self.pot=self.pot*-1\n",
        "      num=self.num**self.pot\n",
        "      den=self.den**self.pot\n",
        "    else:\n",
        "     num=self.num**self.pot\n",
        "     den=self.den**self.pot\n",
        "     pot=self.pot\n",
        "    c=Fraccion(num,den,pot)\n",
        "    print(f'{c.num} / {c.den}')\n",
        "    return c\n",
        "  def suma(self,s):\n",
        "    if self.den==0 or s.den==0:\n",
        "      print(\"No se puede dividir entre 0\") \n",
        "    else:\n",
        "      if self.den!=s.den:\n",
        "        num=(self.num*s.den)+(self.den*s.num)  \n",
        "        den=self.den*s.den\n",
        "      else:\n",
        "         num=(self.num*s.den)+(self.den*s.num)\n",
        "         den=self.den\n",
        "      f=Fraccion(num,den,1)\n",
        "      print(f'{f.num} / {f.den}')\n",
        "      return f    \n",
        "\n",
        "\n",
        "  def resta(self,s):\n",
        "    if self.den==0 or s.den==0:\n",
        "      print(\"No se puede dividir entre 0\") \n",
        "    else:\n",
        "     if self.den==0 or s.den==0:\n",
        "       print(\"No se puede dividir entre 0\") \n",
        "     else:\n",
        "       if self.den!=s.den:\n",
        "        num=(self.num*s.den)-(self.den*s.num)  \n",
        "        den=self.den*s.den\n",
        "       else:\n",
        "         num=(self.num*s.den)-(self.den*s.num)\n",
        "         den=self.den\n",
        "    f=Fraccion(num,den,1)\n",
        "    print(f'{f.num} / {f.den}')\n",
        "    return f\n",
        "  def producto(self,s):\n",
        "    if self.den==0 or s.den==0:\n",
        "      print(\"No se puede dividir entre 0\") \n",
        "    else:\n",
        "     num=self.num*s.num\n",
        "     den=self.den*s.den\n",
        "     fr=Fraccion(num,den,1)\n",
        "    return f\"{fr.num}/{fr.den}\"\n",
        "\n",
        "  def imprimir(self):\n",
        "    print(f'{self.num} / {self.den}')\n",
        "\n",
        "  def div(self,c):\n",
        "    if self.den==0 or s.den==0:\n",
        "      print(\"No se puede dividir entre 0\")\n",
        "    else:\n",
        "     num=self.num*c.den\n",
        "     den=self.den*c.num \n",
        "     frac=Fraccion(num,den,1)\n",
        "    return f'{frac.num}/{frac.den}' "
      ]
    },
    {
      "cell_type": "code",
      "source": [
        "s=Fraccion(3,5,8)\n"
      ],
      "metadata": {
        "id": "yMYGI3Vi3Fcl"
      },
      "execution_count": 17,
      "outputs": []
    },
    {
      "cell_type": "code",
      "source": [
        "s.__dict__"
      ],
      "metadata": {
        "colab": {
          "base_uri": "https://localhost:8080/"
        },
        "id": "8MEDvgvS3GIF",
        "outputId": "8c9cc505-53b3-41b4-b209-699d6ab57771"
      },
      "execution_count": 18,
      "outputs": [
        {
          "output_type": "execute_result",
          "data": {
            "text/plain": [
              "{'num': 3, 'den': 5, 'pot': 8}"
            ]
          },
          "metadata": {},
          "execution_count": 18
        }
      ]
    },
    {
      "cell_type": "code",
      "source": [
        "s.potencia()"
      ],
      "metadata": {
        "id": "WRqkLy5y3Ik9"
      },
      "execution_count": null,
      "outputs": []
    },
    {
      "cell_type": "code",
      "source": [
        "t=Fraccion(4,5,1)\n"
      ],
      "metadata": {
        "id": "GceRURba3KPm"
      },
      "execution_count": 20,
      "outputs": []
    },
    {
      "cell_type": "code",
      "source": [
        "yo=t.resta(s)"
      ],
      "metadata": {
        "colab": {
          "base_uri": "https://localhost:8080/"
        },
        "id": "EK2IvkPY3Lqt",
        "outputId": "5b07eaab-78db-4b90-a3be-02f8d49a5869"
      },
      "execution_count": 8,
      "outputs": [
        {
          "output_type": "stream",
          "name": "stdout",
          "text": [
            "5 / 5\n"
          ]
        }
      ]
    },
    {
      "cell_type": "code",
      "source": [
        "t.suma(s)"
      ],
      "metadata": {
        "colab": {
          "base_uri": "https://localhost:8080/"
        },
        "id": "fzvQ3SFP3NsN",
        "outputId": "f9b64b05-e0e2-4484-b986-7098d107e85b"
      },
      "execution_count": 24,
      "outputs": [
        {
          "output_type": "stream",
          "name": "stdout",
          "text": [
            "35 / 5\n"
          ]
        },
        {
          "output_type": "execute_result",
          "data": {
            "text/plain": [
              "<__main__.Fraccion at 0x7f0cd5346bd0>"
            ]
          },
          "metadata": {},
          "execution_count": 24
        }
      ]
    },
    {
      "cell_type": "code",
      "source": [
        "t.producto(yo)"
      ],
      "metadata": {
        "colab": {
          "base_uri": "https://localhost:8080/",
          "height": 36
        },
        "id": "EIfaQXJy3Pcl",
        "outputId": "4771036d-f979-4922-9b88-d81c7ff8225b"
      },
      "execution_count": 23,
      "outputs": [
        {
          "output_type": "execute_result",
          "data": {
            "text/plain": [
              "'20/25'"
            ],
            "application/vnd.google.colaboratory.intrinsic+json": {
              "type": "string"
            }
          },
          "metadata": {},
          "execution_count": 23
        }
      ]
    },
    {
      "cell_type": "code",
      "source": [
        "a=t.div(s)"
      ],
      "metadata": {
        "id": "1M-yu79q3Ryd"
      },
      "execution_count": 21,
      "outputs": []
    },
    {
      "cell_type": "code",
      "source": [
        "print(a)"
      ],
      "metadata": {
        "colab": {
          "base_uri": "https://localhost:8080/"
        },
        "id": "Sji-kvbt3TNs",
        "outputId": "75115b96-f6f1-43b2-8ac2-6fa4ed34b4d0"
      },
      "execution_count": 22,
      "outputs": [
        {
          "output_type": "stream",
          "name": "stdout",
          "text": [
            "20/15\n"
          ]
        }
      ]
    }
  ]
}